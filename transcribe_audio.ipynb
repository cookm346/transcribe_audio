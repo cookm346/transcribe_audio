{
  "nbformat": 4,
  "nbformat_minor": 0,
  "metadata": {
    "colab": {
      "name": "Untitled16.ipynb",
      "provenance": []
    },
    "kernelspec": {
      "name": "python3",
      "display_name": "Python 3"
    }
  },
  "cells": [
    {
      "cell_type": "code",
      "metadata": {
        "id": "PjAOcb5ATJGK"
      },
      "source": [
        "%pip install --upgrade google-cloud-speech"
      ],
      "execution_count": null,
      "outputs": []
    },
    {
      "cell_type": "code",
      "metadata": {
        "id": "8qMBiHllTuCp"
      },
      "source": [
        "from google.colab import drive\n",
        "drive.mount('/content/gdrive')"
      ],
      "execution_count": null,
      "outputs": []
    },
    {
      "cell_type": "code",
      "metadata": {
        "id": "AjjAvLM3TzSi"
      },
      "source": [
        "def transcribe_file(speech_file):\n",
        "    \"\"\"Transcribe the given audio file asynchronously.\"\"\"\n",
        "    from google.cloud import speech\n",
        "\n",
        "    client = speech.SpeechClient()\n",
        "\n",
        "    with io.open(speech_file, \"rb\") as audio_file:\n",
        "        content = audio_file.read()\n",
        "\n",
        "    \"\"\"\n",
        "     Note that transcription is limited to 60 seconds audio.\n",
        "     Use a GCS file for audio longer than 1 minute.\n",
        "    \"\"\"\n",
        "    audio = speech.RecognitionAudio(content=content)\n",
        "\n",
        "    config = speech.RecognitionConfig(\n",
        "        encoding=speech.RecognitionConfig.AudioEncoding.LINEAR16,\n",
        "        sample_rate_hertz=32000,\n",
        "        language_code=\"en-US\",\n",
        "        audio_channel_count=1,\n",
        "    )\n",
        "\n",
        "    # [START speech_python_migration_async_response\n",
        "    operation = client.long_running_recognize(\n",
        "        request={\"config\": config, \"audio\": audio}\n",
        "    )\n",
        "    operation = client.long_running_recognize(config=config, audio=audio)\n",
        "\n",
        "    print(\"Waiting for operation to complete...\")\n",
        "    response = operation.result(timeout=90)\n",
        "\n",
        "    # Each result is for a consecutive portion of the audio. Iterate through\n",
        "    # them to get the transcripts for the entire audio file.\n",
        "\n",
        "    out = \"\"\n",
        "\n",
        "    for result in response.results:\n",
        "        # The first alternative is the most likely one for this portion.\n",
        "        #print(u\"Transcript: {}\".format(result.alternatives[0].transcript))\n",
        "        #print(\"Confidence: {}\".format(result.alternatives[0].confidence))\n",
        "\n",
        "        out += result.alternatives[0].transcript\n",
        "        out += \" \"\n",
        "    return out"
      ],
      "execution_count": null,
      "outputs": []
    },
    {
      "cell_type": "code",
      "metadata": {
        "id": "mTK5RGrRUL7n"
      },
      "source": [
        "from google.colab import files\n",
        "uploaded = files.upload()"
      ],
      "execution_count": null,
      "outputs": []
    },
    {
      "cell_type": "code",
      "metadata": {
        "id": "T1z7HK93UCgT"
      },
      "source": [
        "import os\n",
        "os.environ['GOOGLE_APPLICATION_CREDENTIALS'] = \"\""
      ],
      "execution_count": null,
      "outputs": []
    },
    {
      "cell_type": "code",
      "metadata": {
        "id": "9SqbgcupU7dM"
      },
      "source": [
        "import os\n",
        "files = os.listdir(\"gdrive\")\n",
        "files.sort()\n",
        "files"
      ],
      "execution_count": null,
      "outputs": []
    },
    {
      "cell_type": "code",
      "metadata": {
        "id": "QiDjDzOnVLwh"
      },
      "source": [
        "import io\n",
        "path = \"gdrive\"\n",
        "r = \"\"\n",
        "for f in files:\n",
        " r += transcribe_file(os.path.join(path, f)) \n",
        "\n",
        "print(r)"
      ],
      "execution_count": null,
      "outputs": []
    },
    {
      "cell_type": "code",
      "metadata": {
        "id": "vGArNwIGZKVY"
      },
      "source": [
        "text_file = open(\"transcript.txt\", \"w\")\n",
        "text_file.write(r)\n",
        "text_file.close()"
      ],
      "execution_count": null,
      "outputs": []
    },
    {
      "cell_type": "code",
      "metadata": {
        "id": "ar9TfHdqZanK"
      },
      "source": [
        "from google.colab import files\n",
        "files.download(\"transcript.txt\") "
      ],
      "execution_count": null,
      "outputs": []
    },
    {
      "cell_type": "code",
      "metadata": {
        "id": "Q5mOPgggU4M5"
      },
      "source": [
        "from google.colab import drive\n",
        "drive.flush_and_unmount()"
      ],
      "execution_count": null,
      "outputs": []
    }
  ]
}